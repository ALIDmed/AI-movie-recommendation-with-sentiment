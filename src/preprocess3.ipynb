{
 "cells": [
  {
   "cell_type": "code",
   "execution_count": 2,
   "metadata": {},
   "outputs": [],
   "source": [
    "import pandas as pd\n",
    "from tmdbv3api import TMDb\n",
    "from tmdbv3api import Movie\n",
    "import numpy as np\n",
    "import requests"
   ]
  },
  {
   "cell_type": "markdown",
   "metadata": {},
   "source": [
    "Extract films released from 2018 to 2023 from wikipedia"
   ]
  },
  {
   "cell_type": "code",
   "execution_count": 3,
   "metadata": {},
   "outputs": [],
   "source": [
    "\n",
    "years = [2018, 2019, 2020, 2021, 2022, 2023]\n",
    "df = pd.DataFrame()\n",
    "for year in years:\n",
    "\n",
    "    url = f'https://en.wikipedia.org/wiki/List_of_American_films_of_{year}'\n",
    "    tables = pd.read_html(url)\n",
    "\n",
    "    # we are interested in 3 to 6 tables they contain the information we need\n",
    "    for i in range(3, 6):\n",
    "        tables[i] = tables[i][['Title', 'Cast and crew']]\n",
    "        df = pd.concat([df, tables[i]], ignore_index=True)"
   ]
  },
  {
   "cell_type": "code",
   "execution_count": 4,
   "metadata": {},
   "outputs": [
    {
     "data": {
      "text/html": [
       "<div>\n",
       "<style scoped>\n",
       "    .dataframe tbody tr th:only-of-type {\n",
       "        vertical-align: middle;\n",
       "    }\n",
       "\n",
       "    .dataframe tbody tr th {\n",
       "        vertical-align: top;\n",
       "    }\n",
       "\n",
       "    .dataframe thead th {\n",
       "        text-align: right;\n",
       "    }\n",
       "</style>\n",
       "<table border=\"1\" class=\"dataframe\">\n",
       "  <thead>\n",
       "    <tr style=\"text-align: right;\">\n",
       "      <th></th>\n",
       "      <th>Title</th>\n",
       "      <th>Cast and crew</th>\n",
       "    </tr>\n",
       "  </thead>\n",
       "  <tbody>\n",
       "    <tr>\n",
       "      <th>0</th>\n",
       "      <td>A Quiet Place</td>\n",
       "      <td>John Krasinski (director/screenplay); Scott Be...</td>\n",
       "    </tr>\n",
       "    <tr>\n",
       "      <th>1</th>\n",
       "      <td>Blockers</td>\n",
       "      <td>Kay Cannon (director); Eben Russell, Jon Hurwi...</td>\n",
       "    </tr>\n",
       "    <tr>\n",
       "      <th>2</th>\n",
       "      <td>You Were Never Really Here</td>\n",
       "      <td>Lynne Ramsay (director/screenplay); Joaquin Ph...</td>\n",
       "    </tr>\n",
       "    <tr>\n",
       "      <th>3</th>\n",
       "      <td>Chappaquiddick</td>\n",
       "      <td>John Curran (director); Taylor Allen, Andrew L...</td>\n",
       "    </tr>\n",
       "    <tr>\n",
       "      <th>4</th>\n",
       "      <td>Pandas</td>\n",
       "      <td>Drew Fellman, David Douglas (directors); Drew ...</td>\n",
       "    </tr>\n",
       "    <tr>\n",
       "      <th>...</th>\n",
       "      <td>...</td>\n",
       "      <td>...</td>\n",
       "    </tr>\n",
       "    <tr>\n",
       "      <th>1406</th>\n",
       "      <td>Fair Play</td>\n",
       "      <td>Chloe Domont (director/screenplay); Phoebe Dyn...</td>\n",
       "    </tr>\n",
       "    <tr>\n",
       "      <th>1407</th>\n",
       "      <td>Heist 88</td>\n",
       "      <td>Menhaj Huda (director); Dwayne Johnson-Cochran...</td>\n",
       "    </tr>\n",
       "    <tr>\n",
       "      <th>1408</th>\n",
       "      <td>The Re-Education of Molly Singer</td>\n",
       "      <td>Andy Palmer (director); Todd Friedman, Kevin H...</td>\n",
       "    </tr>\n",
       "    <tr>\n",
       "      <th>1409</th>\n",
       "      <td>Deliver Us</td>\n",
       "      <td>Lee Roy Kunz, Cru Ennis (directors); Lee Roy K...</td>\n",
       "    </tr>\n",
       "    <tr>\n",
       "      <th>1410</th>\n",
       "      <td>NaN</td>\n",
       "      <td>NaN</td>\n",
       "    </tr>\n",
       "  </tbody>\n",
       "</table>\n",
       "<p>1411 rows × 2 columns</p>\n",
       "</div>"
      ],
      "text/plain": [
       "                                 Title  \\\n",
       "0                        A Quiet Place   \n",
       "1                             Blockers   \n",
       "2           You Were Never Really Here   \n",
       "3                       Chappaquiddick   \n",
       "4                               Pandas   \n",
       "...                                ...   \n",
       "1406                         Fair Play   \n",
       "1407                          Heist 88   \n",
       "1408  The Re-Education of Molly Singer   \n",
       "1409                        Deliver Us   \n",
       "1410                               NaN   \n",
       "\n",
       "                                          Cast and crew  \n",
       "0     John Krasinski (director/screenplay); Scott Be...  \n",
       "1     Kay Cannon (director); Eben Russell, Jon Hurwi...  \n",
       "2     Lynne Ramsay (director/screenplay); Joaquin Ph...  \n",
       "3     John Curran (director); Taylor Allen, Andrew L...  \n",
       "4     Drew Fellman, David Douglas (directors); Drew ...  \n",
       "...                                                 ...  \n",
       "1406  Chloe Domont (director/screenplay); Phoebe Dyn...  \n",
       "1407  Menhaj Huda (director); Dwayne Johnson-Cochran...  \n",
       "1408  Andy Palmer (director); Todd Friedman, Kevin H...  \n",
       "1409  Lee Roy Kunz, Cru Ennis (directors); Lee Roy K...  \n",
       "1410                                                NaN  \n",
       "\n",
       "[1411 rows x 2 columns]"
      ]
     },
     "execution_count": 4,
     "metadata": {},
     "output_type": "execute_result"
    }
   ],
   "source": [
    "df"
   ]
  },
  {
   "cell_type": "code",
   "execution_count": 5,
   "metadata": {},
   "outputs": [
    {
     "data": {
      "text/plain": [
       "Title            6\n",
       "Cast and crew    6\n",
       "dtype: int64"
      ]
     },
     "execution_count": 5,
     "metadata": {},
     "output_type": "execute_result"
    }
   ],
   "source": [
    "df.isna().sum()"
   ]
  },
  {
   "cell_type": "code",
   "execution_count": 6,
   "metadata": {},
   "outputs": [],
   "source": [
    "df.dropna(how='any', inplace=True)"
   ]
  },
  {
   "cell_type": "code",
   "execution_count": 7,
   "metadata": {},
   "outputs": [],
   "source": [
    "API_KEY = ''\n",
    "tmdb = TMDb()\n",
    "tmdb.api_key = API_KEY\n",
    "movie = Movie()\n",
    "\n",
    "def get_genres(name):\n",
    "    try:\n",
    "        search = movie.search(name)\n",
    "        film_id = search[0].id\n",
    "        url = f\"https://api.themoviedb.org/3/movie/{film_id}?api_key={API_KEY}\"\n",
    "        res = requests.get(url)\n",
    "        data = res.json()\n",
    "\n",
    "        if data.get('genres', None):\n",
    "            genres = []\n",
    "            for i in data['genres']:\n",
    "                genres.append(i['name'])\n",
    "            return \" \".join(genres)\n",
    "        \n",
    "        return np.NaN\n",
    "    except:\n",
    "        return np.NaN"
   ]
  },
  {
   "cell_type": "code",
   "execution_count": 8,
   "metadata": {},
   "outputs": [],
   "source": [
    "df['genres'] = df['Title'].apply(lambda x: get_genres(str(x)))"
   ]
  },
  {
   "cell_type": "code",
   "execution_count": 9,
   "metadata": {},
   "outputs": [
    {
     "data": {
      "text/html": [
       "<div>\n",
       "<style scoped>\n",
       "    .dataframe tbody tr th:only-of-type {\n",
       "        vertical-align: middle;\n",
       "    }\n",
       "\n",
       "    .dataframe tbody tr th {\n",
       "        vertical-align: top;\n",
       "    }\n",
       "\n",
       "    .dataframe thead th {\n",
       "        text-align: right;\n",
       "    }\n",
       "</style>\n",
       "<table border=\"1\" class=\"dataframe\">\n",
       "  <thead>\n",
       "    <tr style=\"text-align: right;\">\n",
       "      <th></th>\n",
       "      <th>Title</th>\n",
       "      <th>Cast and crew</th>\n",
       "      <th>genres</th>\n",
       "    </tr>\n",
       "  </thead>\n",
       "  <tbody>\n",
       "    <tr>\n",
       "      <th>0</th>\n",
       "      <td>A Quiet Place</td>\n",
       "      <td>John Krasinski (director/screenplay); Scott Be...</td>\n",
       "      <td>Horror Drama Science Fiction</td>\n",
       "    </tr>\n",
       "    <tr>\n",
       "      <th>1</th>\n",
       "      <td>Blockers</td>\n",
       "      <td>Kay Cannon (director); Eben Russell, Jon Hurwi...</td>\n",
       "      <td>Comedy</td>\n",
       "    </tr>\n",
       "    <tr>\n",
       "      <th>2</th>\n",
       "      <td>You Were Never Really Here</td>\n",
       "      <td>Lynne Ramsay (director/screenplay); Joaquin Ph...</td>\n",
       "      <td>Crime Drama Thriller</td>\n",
       "    </tr>\n",
       "    <tr>\n",
       "      <th>3</th>\n",
       "      <td>Chappaquiddick</td>\n",
       "      <td>John Curran (director); Taylor Allen, Andrew L...</td>\n",
       "      <td>History Drama Thriller</td>\n",
       "    </tr>\n",
       "    <tr>\n",
       "      <th>4</th>\n",
       "      <td>Pandas</td>\n",
       "      <td>Drew Fellman, David Douglas (directors); Drew ...</td>\n",
       "      <td>Documentary</td>\n",
       "    </tr>\n",
       "  </tbody>\n",
       "</table>\n",
       "</div>"
      ],
      "text/plain": [
       "                        Title  \\\n",
       "0               A Quiet Place   \n",
       "1                    Blockers   \n",
       "2  You Were Never Really Here   \n",
       "3              Chappaquiddick   \n",
       "4                      Pandas   \n",
       "\n",
       "                                       Cast and crew  \\\n",
       "0  John Krasinski (director/screenplay); Scott Be...   \n",
       "1  Kay Cannon (director); Eben Russell, Jon Hurwi...   \n",
       "2  Lynne Ramsay (director/screenplay); Joaquin Ph...   \n",
       "3  John Curran (director); Taylor Allen, Andrew L...   \n",
       "4  Drew Fellman, David Douglas (directors); Drew ...   \n",
       "\n",
       "                         genres  \n",
       "0  Horror Drama Science Fiction  \n",
       "1                        Comedy  \n",
       "2          Crime Drama Thriller  \n",
       "3        History Drama Thriller  \n",
       "4                   Documentary  "
      ]
     },
     "execution_count": 9,
     "metadata": {},
     "output_type": "execute_result"
    }
   ],
   "source": [
    "df.head()"
   ]
  },
  {
   "cell_type": "code",
   "execution_count": 10,
   "metadata": {},
   "outputs": [
    {
     "data": {
      "text/plain": [
       "'John Krasinski (director/screenplay); Scott Beck, Bryan Woods (screenplay); John Krasinski, Emily Blunt, Millicent Simmonds, Noah Jupe'"
      ]
     },
     "execution_count": 10,
     "metadata": {},
     "output_type": "execute_result"
    }
   ],
   "source": [
    "df['Cast and crew'].iloc[0]"
   ]
  },
  {
   "cell_type": "code",
   "execution_count": 11,
   "metadata": {},
   "outputs": [],
   "source": [
    "def get_director(x):\n",
    "    if '(director/screenplay)' in x:\n",
    "        return x.split(' (director/screenplay)')[0]\n",
    "    elif '(director)' in x:\n",
    "        return x.split(' (director)')[0]\n",
    "    else:\n",
    "        return x.split(' (directors)')[0]"
   ]
  },
  {
   "cell_type": "code",
   "execution_count": 12,
   "metadata": {},
   "outputs": [],
   "source": [
    "df['director_name'] = df['Cast and crew'].apply(get_director)"
   ]
  },
  {
   "cell_type": "code",
   "execution_count": 13,
   "metadata": {},
   "outputs": [],
   "source": [
    "def get_actor_by_num(x, num):\n",
    "    actors = x.split('; ')[-1].split(', ')\n",
    "    if len(actors) < num:\n",
    "        return np.NaN\n",
    "    return actors[num - 1]"
   ]
  },
  {
   "cell_type": "code",
   "execution_count": 14,
   "metadata": {},
   "outputs": [],
   "source": [
    "df['actor_1_name'] = df['Cast and crew'].apply(lambda x: get_actor_by_num(x, 1))\n",
    "df['actor_2_name'] = df['Cast and crew'].apply(lambda x: get_actor_by_num(x, 2))\n",
    "df['actor_3_name'] = df['Cast and crew'].apply(lambda x: get_actor_by_num(x, 3))"
   ]
  },
  {
   "cell_type": "code",
   "execution_count": 17,
   "metadata": {},
   "outputs": [
    {
     "data": {
      "text/plain": [
       "'Drew Fellman, David Douglas (directors); Drew Fellman (screenplay); Kristen Bell'"
      ]
     },
     "execution_count": 17,
     "metadata": {},
     "output_type": "execute_result"
    }
   ],
   "source": [
    "df['Cast and crew'].iloc[4]"
   ]
  },
  {
   "cell_type": "code",
   "execution_count": 18,
   "metadata": {},
   "outputs": [],
   "source": [
    "df = df.rename(columns={'Title':'movie_title'})"
   ]
  },
  {
   "cell_type": "code",
   "execution_count": 19,
   "metadata": {},
   "outputs": [
    {
     "data": {
      "text/html": [
       "<div>\n",
       "<style scoped>\n",
       "    .dataframe tbody tr th:only-of-type {\n",
       "        vertical-align: middle;\n",
       "    }\n",
       "\n",
       "    .dataframe tbody tr th {\n",
       "        vertical-align: top;\n",
       "    }\n",
       "\n",
       "    .dataframe thead th {\n",
       "        text-align: right;\n",
       "    }\n",
       "</style>\n",
       "<table border=\"1\" class=\"dataframe\">\n",
       "  <thead>\n",
       "    <tr style=\"text-align: right;\">\n",
       "      <th></th>\n",
       "      <th>movie_title</th>\n",
       "      <th>Cast and crew</th>\n",
       "      <th>genres</th>\n",
       "      <th>director_name</th>\n",
       "      <th>actor_1_name</th>\n",
       "      <th>actor_2_name</th>\n",
       "      <th>actor_3_name</th>\n",
       "    </tr>\n",
       "  </thead>\n",
       "  <tbody>\n",
       "    <tr>\n",
       "      <th>0</th>\n",
       "      <td>A Quiet Place</td>\n",
       "      <td>John Krasinski (director/screenplay); Scott Be...</td>\n",
       "      <td>Horror Drama Science Fiction</td>\n",
       "      <td>John Krasinski</td>\n",
       "      <td>John Krasinski</td>\n",
       "      <td>Emily Blunt</td>\n",
       "      <td>Millicent Simmonds</td>\n",
       "    </tr>\n",
       "    <tr>\n",
       "      <th>1</th>\n",
       "      <td>Blockers</td>\n",
       "      <td>Kay Cannon (director); Eben Russell, Jon Hurwi...</td>\n",
       "      <td>Comedy</td>\n",
       "      <td>Kay Cannon</td>\n",
       "      <td>Leslie Mann</td>\n",
       "      <td>Ike Barinholtz</td>\n",
       "      <td>John Cena</td>\n",
       "    </tr>\n",
       "    <tr>\n",
       "      <th>2</th>\n",
       "      <td>You Were Never Really Here</td>\n",
       "      <td>Lynne Ramsay (director/screenplay); Joaquin Ph...</td>\n",
       "      <td>Crime Drama Thriller</td>\n",
       "      <td>Lynne Ramsay</td>\n",
       "      <td>Joaquin Phoenix</td>\n",
       "      <td>Ekaterina Samsonov</td>\n",
       "      <td>Alex Manette</td>\n",
       "    </tr>\n",
       "    <tr>\n",
       "      <th>3</th>\n",
       "      <td>Chappaquiddick</td>\n",
       "      <td>John Curran (director); Taylor Allen, Andrew L...</td>\n",
       "      <td>History Drama Thriller</td>\n",
       "      <td>John Curran</td>\n",
       "      <td>Jason Clarke</td>\n",
       "      <td>Kate Mara</td>\n",
       "      <td>Ed Helms</td>\n",
       "    </tr>\n",
       "    <tr>\n",
       "      <th>4</th>\n",
       "      <td>Pandas</td>\n",
       "      <td>Drew Fellman, David Douglas (directors); Drew ...</td>\n",
       "      <td>Documentary</td>\n",
       "      <td>Drew Fellman, David Douglas</td>\n",
       "      <td>Kristen Bell</td>\n",
       "      <td>NaN</td>\n",
       "      <td>NaN</td>\n",
       "    </tr>\n",
       "    <tr>\n",
       "      <th>...</th>\n",
       "      <td>...</td>\n",
       "      <td>...</td>\n",
       "      <td>...</td>\n",
       "      <td>...</td>\n",
       "      <td>...</td>\n",
       "      <td>...</td>\n",
       "      <td>...</td>\n",
       "    </tr>\n",
       "    <tr>\n",
       "      <th>1405</th>\n",
       "      <td>Saw X</td>\n",
       "      <td>Kevin Greutert (director); Josh Stolberg, Pete...</td>\n",
       "      <td>Crime Horror Thriller</td>\n",
       "      <td>Kevin Greutert</td>\n",
       "      <td>Tobin Bell</td>\n",
       "      <td>Shawnee Smith</td>\n",
       "      <td>Synnøve Macody Lund</td>\n",
       "    </tr>\n",
       "    <tr>\n",
       "      <th>1406</th>\n",
       "      <td>Fair Play</td>\n",
       "      <td>Chloe Domont (director/screenplay); Phoebe Dyn...</td>\n",
       "      <td>Drama Thriller</td>\n",
       "      <td>Chloe Domont</td>\n",
       "      <td>Phoebe Dynevor</td>\n",
       "      <td>Alden Ehrenreich</td>\n",
       "      <td>Eddie Marsan</td>\n",
       "    </tr>\n",
       "    <tr>\n",
       "      <th>1407</th>\n",
       "      <td>Heist 88</td>\n",
       "      <td>Menhaj Huda (director); Dwayne Johnson-Cochran...</td>\n",
       "      <td>Crime Drama</td>\n",
       "      <td>Menhaj Huda</td>\n",
       "      <td>Courtney B. Vance</td>\n",
       "      <td>Keesha Sharp</td>\n",
       "      <td>Keith David</td>\n",
       "    </tr>\n",
       "    <tr>\n",
       "      <th>1408</th>\n",
       "      <td>The Re-Education of Molly Singer</td>\n",
       "      <td>Andy Palmer (director); Todd Friedman, Kevin H...</td>\n",
       "      <td>Comedy</td>\n",
       "      <td>Andy Palmer</td>\n",
       "      <td>Britt Robertson</td>\n",
       "      <td>Ty Simpkins</td>\n",
       "      <td>Nico Santos</td>\n",
       "    </tr>\n",
       "    <tr>\n",
       "      <th>1409</th>\n",
       "      <td>Deliver Us</td>\n",
       "      <td>Lee Roy Kunz, Cru Ennis (directors); Lee Roy K...</td>\n",
       "      <td>Horror</td>\n",
       "      <td>Lee Roy Kunz, Cru Ennis</td>\n",
       "      <td>Lee Roy Kunz</td>\n",
       "      <td>Maria Vera Ratti</td>\n",
       "      <td>Alexander Siddig</td>\n",
       "    </tr>\n",
       "  </tbody>\n",
       "</table>\n",
       "<p>1405 rows × 7 columns</p>\n",
       "</div>"
      ],
      "text/plain": [
       "                           movie_title  \\\n",
       "0                        A Quiet Place   \n",
       "1                             Blockers   \n",
       "2           You Were Never Really Here   \n",
       "3                       Chappaquiddick   \n",
       "4                               Pandas   \n",
       "...                                ...   \n",
       "1405                             Saw X   \n",
       "1406                         Fair Play   \n",
       "1407                          Heist 88   \n",
       "1408  The Re-Education of Molly Singer   \n",
       "1409                        Deliver Us   \n",
       "\n",
       "                                          Cast and crew  \\\n",
       "0     John Krasinski (director/screenplay); Scott Be...   \n",
       "1     Kay Cannon (director); Eben Russell, Jon Hurwi...   \n",
       "2     Lynne Ramsay (director/screenplay); Joaquin Ph...   \n",
       "3     John Curran (director); Taylor Allen, Andrew L...   \n",
       "4     Drew Fellman, David Douglas (directors); Drew ...   \n",
       "...                                                 ...   \n",
       "1405  Kevin Greutert (director); Josh Stolberg, Pete...   \n",
       "1406  Chloe Domont (director/screenplay); Phoebe Dyn...   \n",
       "1407  Menhaj Huda (director); Dwayne Johnson-Cochran...   \n",
       "1408  Andy Palmer (director); Todd Friedman, Kevin H...   \n",
       "1409  Lee Roy Kunz, Cru Ennis (directors); Lee Roy K...   \n",
       "\n",
       "                            genres                director_name  \\\n",
       "0     Horror Drama Science Fiction               John Krasinski   \n",
       "1                           Comedy                   Kay Cannon   \n",
       "2             Crime Drama Thriller                 Lynne Ramsay   \n",
       "3           History Drama Thriller                  John Curran   \n",
       "4                      Documentary  Drew Fellman, David Douglas   \n",
       "...                            ...                          ...   \n",
       "1405         Crime Horror Thriller               Kevin Greutert   \n",
       "1406                Drama Thriller                 Chloe Domont   \n",
       "1407                   Crime Drama                  Menhaj Huda   \n",
       "1408                        Comedy                  Andy Palmer   \n",
       "1409                        Horror      Lee Roy Kunz, Cru Ennis   \n",
       "\n",
       "           actor_1_name        actor_2_name         actor_3_name  \n",
       "0        John Krasinski         Emily Blunt   Millicent Simmonds  \n",
       "1           Leslie Mann      Ike Barinholtz            John Cena  \n",
       "2       Joaquin Phoenix  Ekaterina Samsonov         Alex Manette  \n",
       "3          Jason Clarke           Kate Mara             Ed Helms  \n",
       "4          Kristen Bell                 NaN                  NaN  \n",
       "...                 ...                 ...                  ...  \n",
       "1405         Tobin Bell       Shawnee Smith  Synnøve Macody Lund  \n",
       "1406     Phoebe Dynevor    Alden Ehrenreich         Eddie Marsan  \n",
       "1407  Courtney B. Vance        Keesha Sharp          Keith David  \n",
       "1408    Britt Robertson         Ty Simpkins          Nico Santos  \n",
       "1409       Lee Roy Kunz    Maria Vera Ratti     Alexander Siddig  \n",
       "\n",
       "[1405 rows x 7 columns]"
      ]
     },
     "execution_count": 19,
     "metadata": {},
     "output_type": "execute_result"
    }
   ],
   "source": [
    "df"
   ]
  },
  {
   "cell_type": "code",
   "execution_count": 23,
   "metadata": {},
   "outputs": [
    {
     "data": {
      "text/plain": [
       "Index(['movie_title', 'Cast and crew', 'genres', 'director_name',\n",
       "       'actor_1_name', 'actor_2_name', 'actor_3_name'],\n",
       "      dtype='object')"
      ]
     },
     "execution_count": 23,
     "metadata": {},
     "output_type": "execute_result"
    }
   ],
   "source": [
    "df.columns"
   ]
  },
  {
   "cell_type": "code",
   "execution_count": 24,
   "metadata": {},
   "outputs": [],
   "source": [
    "df = df[['movie_title', 'genres', 'director_name','actor_1_name', 'actor_2_name', 'actor_3_name']]"
   ]
  },
  {
   "cell_type": "code",
   "execution_count": 25,
   "metadata": {},
   "outputs": [],
   "source": [
    "old = pd.read_csv('../data/new_data.csv')"
   ]
  },
  {
   "cell_type": "code",
   "execution_count": 26,
   "metadata": {},
   "outputs": [
    {
     "data": {
      "text/html": [
       "<div>\n",
       "<style scoped>\n",
       "    .dataframe tbody tr th:only-of-type {\n",
       "        vertical-align: middle;\n",
       "    }\n",
       "\n",
       "    .dataframe tbody tr th {\n",
       "        vertical-align: top;\n",
       "    }\n",
       "\n",
       "    .dataframe thead th {\n",
       "        text-align: right;\n",
       "    }\n",
       "</style>\n",
       "<table border=\"1\" class=\"dataframe\">\n",
       "  <thead>\n",
       "    <tr style=\"text-align: right;\">\n",
       "      <th></th>\n",
       "      <th>movie_title</th>\n",
       "      <th>director_name</th>\n",
       "      <th>actor_1_name</th>\n",
       "      <th>actor_2_name</th>\n",
       "      <th>actor_3_name</th>\n",
       "      <th>genres</th>\n",
       "    </tr>\n",
       "  </thead>\n",
       "  <tbody>\n",
       "    <tr>\n",
       "      <th>0</th>\n",
       "      <td>Avatar</td>\n",
       "      <td>James Cameron</td>\n",
       "      <td>CCH Pounder</td>\n",
       "      <td>Joel David Moore</td>\n",
       "      <td>Wes Studi</td>\n",
       "      <td>Action Adventure Fantasy Sci-Fi</td>\n",
       "    </tr>\n",
       "    <tr>\n",
       "      <th>1</th>\n",
       "      <td>Pirates of the Caribbean: At World's End</td>\n",
       "      <td>Gore Verbinski</td>\n",
       "      <td>Johnny Depp</td>\n",
       "      <td>Orlando Bloom</td>\n",
       "      <td>Jack Davenport</td>\n",
       "      <td>Action Adventure Fantasy</td>\n",
       "    </tr>\n",
       "    <tr>\n",
       "      <th>2</th>\n",
       "      <td>Spectre</td>\n",
       "      <td>Sam Mendes</td>\n",
       "      <td>Christoph Waltz</td>\n",
       "      <td>Rory Kinnear</td>\n",
       "      <td>Stephanie Sigman</td>\n",
       "      <td>Action Adventure Thriller</td>\n",
       "    </tr>\n",
       "    <tr>\n",
       "      <th>3</th>\n",
       "      <td>The Dark Knight Rises</td>\n",
       "      <td>Christopher Nolan</td>\n",
       "      <td>Tom Hardy</td>\n",
       "      <td>Christian Bale</td>\n",
       "      <td>Joseph Gordon-Levitt</td>\n",
       "      <td>Action Thriller</td>\n",
       "    </tr>\n",
       "    <tr>\n",
       "      <th>4</th>\n",
       "      <td>Star Wars: Episode VII - The Force Awakens    ...</td>\n",
       "      <td>Doug Walker</td>\n",
       "      <td>Doug Walker</td>\n",
       "      <td>Rob Walker</td>\n",
       "      <td>NaN</td>\n",
       "      <td>Documentary</td>\n",
       "    </tr>\n",
       "    <tr>\n",
       "      <th>...</th>\n",
       "      <td>...</td>\n",
       "      <td>...</td>\n",
       "      <td>...</td>\n",
       "      <td>...</td>\n",
       "      <td>...</td>\n",
       "      <td>...</td>\n",
       "    </tr>\n",
       "    <tr>\n",
       "      <th>5569</th>\n",
       "      <td>thick lashes of lauri mäntyvaara</td>\n",
       "      <td>Hannaleena Hauru</td>\n",
       "      <td>Inka Haapamäki</td>\n",
       "      <td>Rosa Honkonen</td>\n",
       "      <td>Tiitus Rantala</td>\n",
       "      <td>Romance Comedy</td>\n",
       "    </tr>\n",
       "    <tr>\n",
       "      <th>5570</th>\n",
       "      <td>cop and a half: new recruit</td>\n",
       "      <td>Jonathan A. Rosenbaum</td>\n",
       "      <td>Lou Diamond Phillips</td>\n",
       "      <td>Wallace Shawn</td>\n",
       "      <td>Gina Holden</td>\n",
       "      <td>Crime Comedy Action Family</td>\n",
       "    </tr>\n",
       "    <tr>\n",
       "      <th>5571</th>\n",
       "      <td>in a heartbeat</td>\n",
       "      <td>Beth David Esteban Bravo</td>\n",
       "      <td>NaN</td>\n",
       "      <td>NaN</td>\n",
       "      <td>NaN</td>\n",
       "      <td>Family Animation Romance Comedy</td>\n",
       "    </tr>\n",
       "    <tr>\n",
       "      <th>5572</th>\n",
       "      <td>mom</td>\n",
       "      <td>Ravi Udyawar</td>\n",
       "      <td>Sridevi Kapoor</td>\n",
       "      <td>Sajal Ali</td>\n",
       "      <td>Akshaye Khanna</td>\n",
       "      <td>Crime Drama Thriller</td>\n",
       "    </tr>\n",
       "    <tr>\n",
       "      <th>5573</th>\n",
       "      <td>queerama</td>\n",
       "      <td>Daisy Asquith</td>\n",
       "      <td>NaN</td>\n",
       "      <td>NaN</td>\n",
       "      <td>NaN</td>\n",
       "      <td>NaN</td>\n",
       "    </tr>\n",
       "  </tbody>\n",
       "</table>\n",
       "<p>5574 rows × 6 columns</p>\n",
       "</div>"
      ],
      "text/plain": [
       "                                            movie_title  \\\n",
       "0                                                Avatar   \n",
       "1              Pirates of the Caribbean: At World's End   \n",
       "2                                               Spectre   \n",
       "3                                 The Dark Knight Rises   \n",
       "4     Star Wars: Episode VII - The Force Awakens    ...   \n",
       "...                                                 ...   \n",
       "5569                   thick lashes of lauri mäntyvaara   \n",
       "5570                        cop and a half: new recruit   \n",
       "5571                                     in a heartbeat   \n",
       "5572                                                mom   \n",
       "5573                                           queerama   \n",
       "\n",
       "                 director_name          actor_1_name      actor_2_name  \\\n",
       "0                James Cameron           CCH Pounder  Joel David Moore   \n",
       "1               Gore Verbinski           Johnny Depp     Orlando Bloom   \n",
       "2                   Sam Mendes       Christoph Waltz      Rory Kinnear   \n",
       "3            Christopher Nolan             Tom Hardy    Christian Bale   \n",
       "4                  Doug Walker           Doug Walker        Rob Walker   \n",
       "...                        ...                   ...               ...   \n",
       "5569          Hannaleena Hauru        Inka Haapamäki     Rosa Honkonen   \n",
       "5570     Jonathan A. Rosenbaum  Lou Diamond Phillips     Wallace Shawn   \n",
       "5571  Beth David Esteban Bravo                   NaN               NaN   \n",
       "5572              Ravi Udyawar        Sridevi Kapoor         Sajal Ali   \n",
       "5573             Daisy Asquith                   NaN               NaN   \n",
       "\n",
       "              actor_3_name                           genres  \n",
       "0                Wes Studi  Action Adventure Fantasy Sci-Fi  \n",
       "1           Jack Davenport         Action Adventure Fantasy  \n",
       "2         Stephanie Sigman        Action Adventure Thriller  \n",
       "3     Joseph Gordon-Levitt                  Action Thriller  \n",
       "4                      NaN                      Documentary  \n",
       "...                    ...                              ...  \n",
       "5569        Tiitus Rantala                   Romance Comedy  \n",
       "5570           Gina Holden       Crime Comedy Action Family  \n",
       "5571                   NaN  Family Animation Romance Comedy  \n",
       "5572        Akshaye Khanna             Crime Drama Thriller  \n",
       "5573                   NaN                              NaN  \n",
       "\n",
       "[5574 rows x 6 columns]"
      ]
     },
     "execution_count": 26,
     "metadata": {},
     "output_type": "execute_result"
    }
   ],
   "source": [
    "old"
   ]
  },
  {
   "cell_type": "code",
   "execution_count": 27,
   "metadata": {},
   "outputs": [],
   "source": [
    "new = pd.concat([old, df], ignore_index=True)"
   ]
  },
  {
   "cell_type": "code",
   "execution_count": 28,
   "metadata": {},
   "outputs": [
    {
     "data": {
      "text/plain": [
       "(6979, 6)"
      ]
     },
     "execution_count": 28,
     "metadata": {},
     "output_type": "execute_result"
    }
   ],
   "source": [
    "new.shape"
   ]
  },
  {
   "cell_type": "code",
   "execution_count": 29,
   "metadata": {},
   "outputs": [],
   "source": [
    "new.to_csv('../data/final.csv', index=False)"
   ]
  },
  {
   "cell_type": "code",
   "execution_count": null,
   "metadata": {},
   "outputs": [],
   "source": []
  }
 ],
 "metadata": {
  "kernelspec": {
   "display_name": "Python 3",
   "language": "python",
   "name": "python3"
  },
  "language_info": {
   "codemirror_mode": {
    "name": "ipython",
    "version": 3
   },
   "file_extension": ".py",
   "mimetype": "text/x-python",
   "name": "python",
   "nbconvert_exporter": "python",
   "pygments_lexer": "ipython3",
   "version": "3.10.10"
  }
 },
 "nbformat": 4,
 "nbformat_minor": 2
}
