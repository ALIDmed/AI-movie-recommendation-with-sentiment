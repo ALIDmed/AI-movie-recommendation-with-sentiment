{
 "cells": [
  {
   "cell_type": "code",
   "execution_count": 1,
   "metadata": {},
   "outputs": [],
   "source": [
    "import pandas as pd\n",
    "import numpy as np\n",
    "from tmdbv3api import TMDb\n",
    "from tmdbv3api import Movie\n",
    "import requests"
   ]
  },
  {
   "cell_type": "code",
   "execution_count": 2,
   "metadata": {},
   "outputs": [],
   "source": [
    "df = pd.read_csv('../data/final.csv')"
   ]
  },
  {
   "cell_type": "code",
   "execution_count": 3,
   "metadata": {},
   "outputs": [
    {
     "data": {
      "text/html": [
       "<div>\n",
       "<style scoped>\n",
       "    .dataframe tbody tr th:only-of-type {\n",
       "        vertical-align: middle;\n",
       "    }\n",
       "\n",
       "    .dataframe tbody tr th {\n",
       "        vertical-align: top;\n",
       "    }\n",
       "\n",
       "    .dataframe thead th {\n",
       "        text-align: right;\n",
       "    }\n",
       "</style>\n",
       "<table border=\"1\" class=\"dataframe\">\n",
       "  <thead>\n",
       "    <tr style=\"text-align: right;\">\n",
       "      <th></th>\n",
       "      <th>movie_title</th>\n",
       "      <th>director_name</th>\n",
       "      <th>actor_1_name</th>\n",
       "      <th>actor_2_name</th>\n",
       "      <th>actor_3_name</th>\n",
       "      <th>genres</th>\n",
       "    </tr>\n",
       "  </thead>\n",
       "  <tbody>\n",
       "    <tr>\n",
       "      <th>0</th>\n",
       "      <td>Avatar</td>\n",
       "      <td>James Cameron</td>\n",
       "      <td>CCH Pounder</td>\n",
       "      <td>Joel David Moore</td>\n",
       "      <td>Wes Studi</td>\n",
       "      <td>Action Adventure Fantasy Sci-Fi</td>\n",
       "    </tr>\n",
       "    <tr>\n",
       "      <th>1</th>\n",
       "      <td>Pirates of the Caribbean: At World's End</td>\n",
       "      <td>Gore Verbinski</td>\n",
       "      <td>Johnny Depp</td>\n",
       "      <td>Orlando Bloom</td>\n",
       "      <td>Jack Davenport</td>\n",
       "      <td>Action Adventure Fantasy</td>\n",
       "    </tr>\n",
       "    <tr>\n",
       "      <th>2</th>\n",
       "      <td>Spectre</td>\n",
       "      <td>Sam Mendes</td>\n",
       "      <td>Christoph Waltz</td>\n",
       "      <td>Rory Kinnear</td>\n",
       "      <td>Stephanie Sigman</td>\n",
       "      <td>Action Adventure Thriller</td>\n",
       "    </tr>\n",
       "    <tr>\n",
       "      <th>3</th>\n",
       "      <td>The Dark Knight Rises</td>\n",
       "      <td>Christopher Nolan</td>\n",
       "      <td>Tom Hardy</td>\n",
       "      <td>Christian Bale</td>\n",
       "      <td>Joseph Gordon-Levitt</td>\n",
       "      <td>Action Thriller</td>\n",
       "    </tr>\n",
       "    <tr>\n",
       "      <th>4</th>\n",
       "      <td>Star Wars: Episode VII - The Force Awakens    ...</td>\n",
       "      <td>Doug Walker</td>\n",
       "      <td>Doug Walker</td>\n",
       "      <td>Rob Walker</td>\n",
       "      <td>NaN</td>\n",
       "      <td>Documentary</td>\n",
       "    </tr>\n",
       "    <tr>\n",
       "      <th>...</th>\n",
       "      <td>...</td>\n",
       "      <td>...</td>\n",
       "      <td>...</td>\n",
       "      <td>...</td>\n",
       "      <td>...</td>\n",
       "      <td>...</td>\n",
       "    </tr>\n",
       "    <tr>\n",
       "      <th>6970</th>\n",
       "      <td>Saw X</td>\n",
       "      <td>Kevin Greutert</td>\n",
       "      <td>Tobin Bell</td>\n",
       "      <td>Shawnee Smith</td>\n",
       "      <td>Synnøve Macody Lund</td>\n",
       "      <td>Crime Horror Thriller</td>\n",
       "    </tr>\n",
       "    <tr>\n",
       "      <th>6971</th>\n",
       "      <td>Fair Play</td>\n",
       "      <td>Chloe Domont</td>\n",
       "      <td>Phoebe Dynevor</td>\n",
       "      <td>Alden Ehrenreich</td>\n",
       "      <td>Eddie Marsan</td>\n",
       "      <td>Drama Thriller</td>\n",
       "    </tr>\n",
       "    <tr>\n",
       "      <th>6972</th>\n",
       "      <td>Heist 88</td>\n",
       "      <td>Menhaj Huda</td>\n",
       "      <td>Courtney B. Vance</td>\n",
       "      <td>Keesha Sharp</td>\n",
       "      <td>Keith David</td>\n",
       "      <td>Crime Drama</td>\n",
       "    </tr>\n",
       "    <tr>\n",
       "      <th>6973</th>\n",
       "      <td>The Re-Education of Molly Singer</td>\n",
       "      <td>Andy Palmer</td>\n",
       "      <td>Britt Robertson</td>\n",
       "      <td>Ty Simpkins</td>\n",
       "      <td>Nico Santos</td>\n",
       "      <td>Comedy</td>\n",
       "    </tr>\n",
       "    <tr>\n",
       "      <th>6974</th>\n",
       "      <td>Deliver Us</td>\n",
       "      <td>Lee Roy Kunz, Cru Ennis</td>\n",
       "      <td>Lee Roy Kunz</td>\n",
       "      <td>Maria Vera Ratti</td>\n",
       "      <td>Alexander Siddig</td>\n",
       "      <td>Horror</td>\n",
       "    </tr>\n",
       "  </tbody>\n",
       "</table>\n",
       "<p>6975 rows × 6 columns</p>\n",
       "</div>"
      ],
      "text/plain": [
       "                                            movie_title  \\\n",
       "0                                                Avatar   \n",
       "1              Pirates of the Caribbean: At World's End   \n",
       "2                                               Spectre   \n",
       "3                                 The Dark Knight Rises   \n",
       "4     Star Wars: Episode VII - The Force Awakens    ...   \n",
       "...                                                 ...   \n",
       "6970                                              Saw X   \n",
       "6971                                          Fair Play   \n",
       "6972                                           Heist 88   \n",
       "6973                   The Re-Education of Molly Singer   \n",
       "6974                                         Deliver Us   \n",
       "\n",
       "                director_name       actor_1_name      actor_2_name  \\\n",
       "0               James Cameron        CCH Pounder  Joel David Moore   \n",
       "1              Gore Verbinski        Johnny Depp     Orlando Bloom   \n",
       "2                  Sam Mendes    Christoph Waltz      Rory Kinnear   \n",
       "3           Christopher Nolan          Tom Hardy    Christian Bale   \n",
       "4                 Doug Walker        Doug Walker        Rob Walker   \n",
       "...                       ...                ...               ...   \n",
       "6970           Kevin Greutert         Tobin Bell     Shawnee Smith   \n",
       "6971             Chloe Domont     Phoebe Dynevor  Alden Ehrenreich   \n",
       "6972              Menhaj Huda  Courtney B. Vance      Keesha Sharp   \n",
       "6973              Andy Palmer    Britt Robertson       Ty Simpkins   \n",
       "6974  Lee Roy Kunz, Cru Ennis       Lee Roy Kunz  Maria Vera Ratti   \n",
       "\n",
       "              actor_3_name                           genres  \n",
       "0                Wes Studi  Action Adventure Fantasy Sci-Fi  \n",
       "1           Jack Davenport         Action Adventure Fantasy  \n",
       "2         Stephanie Sigman        Action Adventure Thriller  \n",
       "3     Joseph Gordon-Levitt                  Action Thriller  \n",
       "4                      NaN                      Documentary  \n",
       "...                    ...                              ...  \n",
       "6970   Synnøve Macody Lund            Crime Horror Thriller  \n",
       "6971          Eddie Marsan                   Drama Thriller  \n",
       "6972           Keith David                      Crime Drama  \n",
       "6973           Nico Santos                           Comedy  \n",
       "6974      Alexander Siddig                           Horror  \n",
       "\n",
       "[6975 rows x 6 columns]"
      ]
     },
     "execution_count": 3,
     "metadata": {},
     "output_type": "execute_result"
    }
   ],
   "source": [
    "df"
   ]
  },
  {
   "cell_type": "code",
   "execution_count": 4,
   "metadata": {},
   "outputs": [],
   "source": [
    "df['movie_title'] = df['movie_title'].str.strip() "
   ]
  },
  {
   "cell_type": "code",
   "execution_count": 5,
   "metadata": {},
   "outputs": [
    {
     "data": {
      "text/plain": [
       "124"
      ]
     },
     "execution_count": 5,
     "metadata": {},
     "output_type": "execute_result"
    }
   ],
   "source": [
    "df.duplicated().sum()"
   ]
  },
  {
   "cell_type": "code",
   "execution_count": 6,
   "metadata": {},
   "outputs": [],
   "source": [
    "df.drop_duplicates(subset='movie_title', keep='last', inplace=True)"
   ]
  },
  {
   "cell_type": "code",
   "execution_count": 7,
   "metadata": {},
   "outputs": [
    {
     "data": {
      "text/plain": [
       "0"
      ]
     },
     "execution_count": 7,
     "metadata": {},
     "output_type": "execute_result"
    }
   ],
   "source": [
    "df.duplicated().sum()"
   ]
  },
  {
   "cell_type": "code",
   "execution_count": 8,
   "metadata": {},
   "outputs": [],
   "source": [
    "df.genres = df.genres.str.replace('Science Fiction', 'Sci-Fi')"
   ]
  },
  {
   "cell_type": "code",
   "execution_count": 9,
   "metadata": {},
   "outputs": [
    {
     "data": {
      "text/plain": [
       "movie_title        0\n",
       "director_name    102\n",
       "actor_1_name      29\n",
       "actor_2_name      99\n",
       "actor_3_name     215\n",
       "genres             8\n",
       "dtype: int64"
      ]
     },
     "execution_count": 9,
     "metadata": {},
     "output_type": "execute_result"
    }
   ],
   "source": [
    "df.isna().sum()"
   ]
  },
  {
   "cell_type": "markdown",
   "metadata": {},
   "source": [
    "#### genres"
   ]
  },
  {
   "cell_type": "code",
   "execution_count": 10,
   "metadata": {},
   "outputs": [],
   "source": [
    "API_KEY = '4c225c866aa84f4ef450043654ec9e56'\n",
    "tmdb = TMDb()\n",
    "tmdb.api_key = API_KEY\n",
    "movie = Movie()\n",
    "\n",
    "\n",
    "def get_genres(x):\n",
    "    search = movie.search(x)\n",
    "    film_id = search[0].id\n",
    "\n",
    "    url = f'https://api.themoviedb.org/3/movie/{film_id}?api_key={API_KEY}'\n",
    "    res = requests.get(url)\n",
    "    data = res.json()\n",
    "\n",
    "    if data.get('genres', None):\n",
    "        genres = []\n",
    "        for i in data['genres']:\n",
    "            genres.append(i['name'])\n",
    "        if genres == []:\n",
    "            return np.NaN\n",
    "        return \" \".join(genres)"
   ]
  },
  {
   "cell_type": "code",
   "execution_count": 11,
   "metadata": {},
   "outputs": [],
   "source": [
    "df.loc[df.genres.isna(),'genres'] = df.loc[df.genres.isna(), 'movie_title'].apply(get_genres)"
   ]
  },
  {
   "cell_type": "code",
   "execution_count": 12,
   "metadata": {},
   "outputs": [
    {
     "data": {
      "text/plain": [
       "movie_title        0\n",
       "director_name    102\n",
       "actor_1_name      29\n",
       "actor_2_name      99\n",
       "actor_3_name     215\n",
       "genres             0\n",
       "dtype: int64"
      ]
     },
     "execution_count": 12,
     "metadata": {},
     "output_type": "execute_result"
    }
   ],
   "source": [
    "df.isna().sum()"
   ]
  },
  {
   "cell_type": "markdown",
   "metadata": {},
   "source": [
    "#### director_name"
   ]
  },
  {
   "cell_type": "code",
   "execution_count": 13,
   "metadata": {},
   "outputs": [],
   "source": [
    "def get_directors(x):\n",
    "    try:\n",
    "        search = movie.search(x)\n",
    "        film_id = search[0].id\n",
    "        url = f'https://api.themoviedb.org/3/movie/{film_id}/credits?api_key={API_KEY}'\n",
    "        res = requests.get(url)\n",
    "        data = res.json()\n",
    "\n",
    "        for person in data['crew']:\n",
    "            if person.get('job', None) == \"Director\":\n",
    "                return person['name']\n",
    "        return np.NaN\n",
    "    except:\n",
    "        return np.NaN"
   ]
  },
  {
   "cell_type": "code",
   "execution_count": 14,
   "metadata": {},
   "outputs": [],
   "source": [
    "df.loc[df.director_name.isna(), 'director_name'] = df.loc[df.director_name.isna(), 'movie_title'].apply(get_directors)"
   ]
  },
  {
   "cell_type": "code",
   "execution_count": 15,
   "metadata": {},
   "outputs": [
    {
     "data": {
      "text/plain": [
       "movie_title        0\n",
       "director_name      9\n",
       "actor_1_name      29\n",
       "actor_2_name      99\n",
       "actor_3_name     215\n",
       "genres             0\n",
       "dtype: int64"
      ]
     },
     "execution_count": 15,
     "metadata": {},
     "output_type": "execute_result"
    }
   ],
   "source": [
    "df.isna().sum()"
   ]
  },
  {
   "cell_type": "code",
   "execution_count": 16,
   "metadata": {},
   "outputs": [],
   "source": [
    "def get_actors_by_num(x, num):\n",
    "    try:\n",
    "        search = movie.search(x)\n",
    "        film_id = search[0].id\n",
    "        url = f'https://api.themoviedb.org/3/movie/{film_id}/credits?api_key={API_KEY}'\n",
    "        res = requests.get(url)\n",
    "        data = res.json()\n",
    "\n",
    "        if len(data['cast']) < num:\n",
    "            return np.NaN\n",
    "        return data['cast'][num - 1]['name']\n",
    "\n",
    "    except:\n",
    "        return np.NaN"
   ]
  },
  {
   "cell_type": "code",
   "execution_count": 17,
   "metadata": {},
   "outputs": [],
   "source": [
    "df.loc[df.actor_1_name.isna(), 'actor_1_name'] = df.loc[df.actor_1_name.isna(), 'movie_title'].apply(lambda x: get_actors_by_num(x, 1))\n",
    "df.loc[df.actor_2_name.isna(), 'actor_2_name'] = df.loc[df.actor_2_name.isna(), 'movie_title'].apply(lambda x: get_actors_by_num(x, 2))\n",
    "df.loc[df.actor_3_name.isna(), 'actor_3_name'] = df.loc[df.actor_3_name.isna(), 'movie_title'].apply(lambda x: get_actors_by_num(x, 3))"
   ]
  },
  {
   "cell_type": "code",
   "execution_count": 18,
   "metadata": {},
   "outputs": [
    {
     "data": {
      "text/plain": [
       "movie_title       0\n",
       "director_name     9\n",
       "actor_1_name     14\n",
       "actor_2_name     49\n",
       "actor_3_name     71\n",
       "genres            0\n",
       "dtype: int64"
      ]
     },
     "execution_count": 18,
     "metadata": {},
     "output_type": "execute_result"
    }
   ],
   "source": [
    "df.isna().sum()"
   ]
  },
  {
   "cell_type": "code",
   "execution_count": 19,
   "metadata": {},
   "outputs": [],
   "source": [
    "df.dropna(how='any', inplace=True)"
   ]
  },
  {
   "cell_type": "code",
   "execution_count": 20,
   "metadata": {},
   "outputs": [
    {
     "data": {
      "text/plain": [
       "movie_title      0\n",
       "director_name    0\n",
       "actor_1_name     0\n",
       "actor_2_name     0\n",
       "actor_3_name     0\n",
       "genres           0\n",
       "dtype: int64"
      ]
     },
     "execution_count": 20,
     "metadata": {},
     "output_type": "execute_result"
    }
   ],
   "source": [
    "df.isna().sum()"
   ]
  },
  {
   "cell_type": "code",
   "execution_count": 21,
   "metadata": {},
   "outputs": [],
   "source": [
    "df.director_name = df.director_name.str.replace(',', '')"
   ]
  },
  {
   "cell_type": "code",
   "execution_count": 22,
   "metadata": {},
   "outputs": [],
   "source": [
    "df.reset_index(drop=True, inplace=True)"
   ]
  },
  {
   "cell_type": "code",
   "execution_count": 23,
   "metadata": {},
   "outputs": [
    {
     "data": {
      "text/html": [
       "<div>\n",
       "<style scoped>\n",
       "    .dataframe tbody tr th:only-of-type {\n",
       "        vertical-align: middle;\n",
       "    }\n",
       "\n",
       "    .dataframe tbody tr th {\n",
       "        vertical-align: top;\n",
       "    }\n",
       "\n",
       "    .dataframe thead th {\n",
       "        text-align: right;\n",
       "    }\n",
       "</style>\n",
       "<table border=\"1\" class=\"dataframe\">\n",
       "  <thead>\n",
       "    <tr style=\"text-align: right;\">\n",
       "      <th></th>\n",
       "      <th>movie_title</th>\n",
       "      <th>director_name</th>\n",
       "      <th>actor_1_name</th>\n",
       "      <th>actor_2_name</th>\n",
       "      <th>actor_3_name</th>\n",
       "      <th>genres</th>\n",
       "    </tr>\n",
       "  </thead>\n",
       "  <tbody>\n",
       "    <tr>\n",
       "      <th>0</th>\n",
       "      <td>Avatar</td>\n",
       "      <td>James Cameron</td>\n",
       "      <td>CCH Pounder</td>\n",
       "      <td>Joel David Moore</td>\n",
       "      <td>Wes Studi</td>\n",
       "      <td>Action Adventure Fantasy Sci-Fi</td>\n",
       "    </tr>\n",
       "    <tr>\n",
       "      <th>1</th>\n",
       "      <td>Pirates of the Caribbean: At World's End</td>\n",
       "      <td>Gore Verbinski</td>\n",
       "      <td>Johnny Depp</td>\n",
       "      <td>Orlando Bloom</td>\n",
       "      <td>Jack Davenport</td>\n",
       "      <td>Action Adventure Fantasy</td>\n",
       "    </tr>\n",
       "    <tr>\n",
       "      <th>2</th>\n",
       "      <td>Spectre</td>\n",
       "      <td>Sam Mendes</td>\n",
       "      <td>Christoph Waltz</td>\n",
       "      <td>Rory Kinnear</td>\n",
       "      <td>Stephanie Sigman</td>\n",
       "      <td>Action Adventure Thriller</td>\n",
       "    </tr>\n",
       "    <tr>\n",
       "      <th>3</th>\n",
       "      <td>The Dark Knight Rises</td>\n",
       "      <td>Christopher Nolan</td>\n",
       "      <td>Tom Hardy</td>\n",
       "      <td>Christian Bale</td>\n",
       "      <td>Joseph Gordon-Levitt</td>\n",
       "      <td>Action Thriller</td>\n",
       "    </tr>\n",
       "    <tr>\n",
       "      <th>4</th>\n",
       "      <td>Star Wars: Episode VII - The Force Awakens</td>\n",
       "      <td>Doug Walker</td>\n",
       "      <td>Doug Walker</td>\n",
       "      <td>Rob Walker</td>\n",
       "      <td>Carrie Fisher</td>\n",
       "      <td>Documentary</td>\n",
       "    </tr>\n",
       "    <tr>\n",
       "      <th>...</th>\n",
       "      <td>...</td>\n",
       "      <td>...</td>\n",
       "      <td>...</td>\n",
       "      <td>...</td>\n",
       "      <td>...</td>\n",
       "      <td>...</td>\n",
       "    </tr>\n",
       "    <tr>\n",
       "      <th>6713</th>\n",
       "      <td>Saw X</td>\n",
       "      <td>Kevin Greutert</td>\n",
       "      <td>Tobin Bell</td>\n",
       "      <td>Shawnee Smith</td>\n",
       "      <td>Synnøve Macody Lund</td>\n",
       "      <td>Crime Horror Thriller</td>\n",
       "    </tr>\n",
       "    <tr>\n",
       "      <th>6714</th>\n",
       "      <td>Fair Play</td>\n",
       "      <td>Chloe Domont</td>\n",
       "      <td>Phoebe Dynevor</td>\n",
       "      <td>Alden Ehrenreich</td>\n",
       "      <td>Eddie Marsan</td>\n",
       "      <td>Drama Thriller</td>\n",
       "    </tr>\n",
       "    <tr>\n",
       "      <th>6715</th>\n",
       "      <td>Heist 88</td>\n",
       "      <td>Menhaj Huda</td>\n",
       "      <td>Courtney B. Vance</td>\n",
       "      <td>Keesha Sharp</td>\n",
       "      <td>Keith David</td>\n",
       "      <td>Crime Drama</td>\n",
       "    </tr>\n",
       "    <tr>\n",
       "      <th>6716</th>\n",
       "      <td>The Re-Education of Molly Singer</td>\n",
       "      <td>Andy Palmer</td>\n",
       "      <td>Britt Robertson</td>\n",
       "      <td>Ty Simpkins</td>\n",
       "      <td>Nico Santos</td>\n",
       "      <td>Comedy</td>\n",
       "    </tr>\n",
       "    <tr>\n",
       "      <th>6717</th>\n",
       "      <td>Deliver Us</td>\n",
       "      <td>Lee Roy Kunz Cru Ennis</td>\n",
       "      <td>Lee Roy Kunz</td>\n",
       "      <td>Maria Vera Ratti</td>\n",
       "      <td>Alexander Siddig</td>\n",
       "      <td>Horror</td>\n",
       "    </tr>\n",
       "  </tbody>\n",
       "</table>\n",
       "<p>6718 rows × 6 columns</p>\n",
       "</div>"
      ],
      "text/plain": [
       "                                     movie_title           director_name  \\\n",
       "0                                         Avatar           James Cameron   \n",
       "1       Pirates of the Caribbean: At World's End          Gore Verbinski   \n",
       "2                                        Spectre              Sam Mendes   \n",
       "3                          The Dark Knight Rises       Christopher Nolan   \n",
       "4     Star Wars: Episode VII - The Force Awakens             Doug Walker   \n",
       "...                                          ...                     ...   \n",
       "6713                                       Saw X          Kevin Greutert   \n",
       "6714                                   Fair Play            Chloe Domont   \n",
       "6715                                    Heist 88             Menhaj Huda   \n",
       "6716            The Re-Education of Molly Singer             Andy Palmer   \n",
       "6717                                  Deliver Us  Lee Roy Kunz Cru Ennis   \n",
       "\n",
       "           actor_1_name      actor_2_name          actor_3_name  \\\n",
       "0           CCH Pounder  Joel David Moore             Wes Studi   \n",
       "1           Johnny Depp     Orlando Bloom        Jack Davenport   \n",
       "2       Christoph Waltz      Rory Kinnear      Stephanie Sigman   \n",
       "3             Tom Hardy    Christian Bale  Joseph Gordon-Levitt   \n",
       "4           Doug Walker        Rob Walker         Carrie Fisher   \n",
       "...                 ...               ...                   ...   \n",
       "6713         Tobin Bell     Shawnee Smith   Synnøve Macody Lund   \n",
       "6714     Phoebe Dynevor  Alden Ehrenreich          Eddie Marsan   \n",
       "6715  Courtney B. Vance      Keesha Sharp           Keith David   \n",
       "6716    Britt Robertson       Ty Simpkins           Nico Santos   \n",
       "6717       Lee Roy Kunz  Maria Vera Ratti      Alexander Siddig   \n",
       "\n",
       "                               genres  \n",
       "0     Action Adventure Fantasy Sci-Fi  \n",
       "1            Action Adventure Fantasy  \n",
       "2           Action Adventure Thriller  \n",
       "3                     Action Thriller  \n",
       "4                         Documentary  \n",
       "...                               ...  \n",
       "6713            Crime Horror Thriller  \n",
       "6714                   Drama Thriller  \n",
       "6715                      Crime Drama  \n",
       "6716                           Comedy  \n",
       "6717                           Horror  \n",
       "\n",
       "[6718 rows x 6 columns]"
      ]
     },
     "execution_count": 23,
     "metadata": {},
     "output_type": "execute_result"
    }
   ],
   "source": [
    "df"
   ]
  },
  {
   "cell_type": "code",
   "execution_count": 24,
   "metadata": {},
   "outputs": [],
   "source": [
    "df['movie_title'] = df['movie_title'].str.lower()"
   ]
  },
  {
   "cell_type": "code",
   "execution_count": 25,
   "metadata": {},
   "outputs": [],
   "source": [
    "df['comb'] = df['actor_1_name'] + ', ' + \\\n",
    "             df['actor_2_name'] + ', ' + \\\n",
    "             df['actor_3_name'] + ', ' + \\\n",
    "             df['director_name'] + ', ' + \\\n",
    "             df['genres'].str.replace(' ', ', ')"
   ]
  },
  {
   "cell_type": "code",
   "execution_count": 26,
   "metadata": {},
   "outputs": [
    {
     "data": {
      "text/html": [
       "<div>\n",
       "<style scoped>\n",
       "    .dataframe tbody tr th:only-of-type {\n",
       "        vertical-align: middle;\n",
       "    }\n",
       "\n",
       "    .dataframe tbody tr th {\n",
       "        vertical-align: top;\n",
       "    }\n",
       "\n",
       "    .dataframe thead th {\n",
       "        text-align: right;\n",
       "    }\n",
       "</style>\n",
       "<table border=\"1\" class=\"dataframe\">\n",
       "  <thead>\n",
       "    <tr style=\"text-align: right;\">\n",
       "      <th></th>\n",
       "      <th>movie_title</th>\n",
       "      <th>director_name</th>\n",
       "      <th>actor_1_name</th>\n",
       "      <th>actor_2_name</th>\n",
       "      <th>actor_3_name</th>\n",
       "      <th>genres</th>\n",
       "      <th>comb</th>\n",
       "    </tr>\n",
       "  </thead>\n",
       "  <tbody>\n",
       "    <tr>\n",
       "      <th>0</th>\n",
       "      <td>avatar</td>\n",
       "      <td>James Cameron</td>\n",
       "      <td>CCH Pounder</td>\n",
       "      <td>Joel David Moore</td>\n",
       "      <td>Wes Studi</td>\n",
       "      <td>Action Adventure Fantasy Sci-Fi</td>\n",
       "      <td>CCH Pounder, Joel David Moore, Wes Studi, Jame...</td>\n",
       "    </tr>\n",
       "    <tr>\n",
       "      <th>1</th>\n",
       "      <td>pirates of the caribbean: at world's end</td>\n",
       "      <td>Gore Verbinski</td>\n",
       "      <td>Johnny Depp</td>\n",
       "      <td>Orlando Bloom</td>\n",
       "      <td>Jack Davenport</td>\n",
       "      <td>Action Adventure Fantasy</td>\n",
       "      <td>Johnny Depp, Orlando Bloom, Jack Davenport, Go...</td>\n",
       "    </tr>\n",
       "    <tr>\n",
       "      <th>2</th>\n",
       "      <td>spectre</td>\n",
       "      <td>Sam Mendes</td>\n",
       "      <td>Christoph Waltz</td>\n",
       "      <td>Rory Kinnear</td>\n",
       "      <td>Stephanie Sigman</td>\n",
       "      <td>Action Adventure Thriller</td>\n",
       "      <td>Christoph Waltz, Rory Kinnear, Stephanie Sigma...</td>\n",
       "    </tr>\n",
       "    <tr>\n",
       "      <th>3</th>\n",
       "      <td>the dark knight rises</td>\n",
       "      <td>Christopher Nolan</td>\n",
       "      <td>Tom Hardy</td>\n",
       "      <td>Christian Bale</td>\n",
       "      <td>Joseph Gordon-Levitt</td>\n",
       "      <td>Action Thriller</td>\n",
       "      <td>Tom Hardy, Christian Bale, Joseph Gordon-Levit...</td>\n",
       "    </tr>\n",
       "    <tr>\n",
       "      <th>4</th>\n",
       "      <td>star wars: episode vii - the force awakens</td>\n",
       "      <td>Doug Walker</td>\n",
       "      <td>Doug Walker</td>\n",
       "      <td>Rob Walker</td>\n",
       "      <td>Carrie Fisher</td>\n",
       "      <td>Documentary</td>\n",
       "      <td>Doug Walker, Rob Walker, Carrie Fisher, Doug W...</td>\n",
       "    </tr>\n",
       "    <tr>\n",
       "      <th>...</th>\n",
       "      <td>...</td>\n",
       "      <td>...</td>\n",
       "      <td>...</td>\n",
       "      <td>...</td>\n",
       "      <td>...</td>\n",
       "      <td>...</td>\n",
       "      <td>...</td>\n",
       "    </tr>\n",
       "    <tr>\n",
       "      <th>6713</th>\n",
       "      <td>saw x</td>\n",
       "      <td>Kevin Greutert</td>\n",
       "      <td>Tobin Bell</td>\n",
       "      <td>Shawnee Smith</td>\n",
       "      <td>Synnøve Macody Lund</td>\n",
       "      <td>Crime Horror Thriller</td>\n",
       "      <td>Tobin Bell, Shawnee Smith, Synnøve Macody Lund...</td>\n",
       "    </tr>\n",
       "    <tr>\n",
       "      <th>6714</th>\n",
       "      <td>fair play</td>\n",
       "      <td>Chloe Domont</td>\n",
       "      <td>Phoebe Dynevor</td>\n",
       "      <td>Alden Ehrenreich</td>\n",
       "      <td>Eddie Marsan</td>\n",
       "      <td>Drama Thriller</td>\n",
       "      <td>Phoebe Dynevor, Alden Ehrenreich, Eddie Marsan...</td>\n",
       "    </tr>\n",
       "    <tr>\n",
       "      <th>6715</th>\n",
       "      <td>heist 88</td>\n",
       "      <td>Menhaj Huda</td>\n",
       "      <td>Courtney B. Vance</td>\n",
       "      <td>Keesha Sharp</td>\n",
       "      <td>Keith David</td>\n",
       "      <td>Crime Drama</td>\n",
       "      <td>Courtney B. Vance, Keesha Sharp, Keith David, ...</td>\n",
       "    </tr>\n",
       "    <tr>\n",
       "      <th>6716</th>\n",
       "      <td>the re-education of molly singer</td>\n",
       "      <td>Andy Palmer</td>\n",
       "      <td>Britt Robertson</td>\n",
       "      <td>Ty Simpkins</td>\n",
       "      <td>Nico Santos</td>\n",
       "      <td>Comedy</td>\n",
       "      <td>Britt Robertson, Ty Simpkins, Nico Santos, And...</td>\n",
       "    </tr>\n",
       "    <tr>\n",
       "      <th>6717</th>\n",
       "      <td>deliver us</td>\n",
       "      <td>Lee Roy Kunz Cru Ennis</td>\n",
       "      <td>Lee Roy Kunz</td>\n",
       "      <td>Maria Vera Ratti</td>\n",
       "      <td>Alexander Siddig</td>\n",
       "      <td>Horror</td>\n",
       "      <td>Lee Roy Kunz, Maria Vera Ratti, Alexander Sidd...</td>\n",
       "    </tr>\n",
       "  </tbody>\n",
       "</table>\n",
       "<p>6718 rows × 7 columns</p>\n",
       "</div>"
      ],
      "text/plain": [
       "                                     movie_title           director_name  \\\n",
       "0                                         avatar           James Cameron   \n",
       "1       pirates of the caribbean: at world's end          Gore Verbinski   \n",
       "2                                        spectre              Sam Mendes   \n",
       "3                          the dark knight rises       Christopher Nolan   \n",
       "4     star wars: episode vii - the force awakens             Doug Walker   \n",
       "...                                          ...                     ...   \n",
       "6713                                       saw x          Kevin Greutert   \n",
       "6714                                   fair play            Chloe Domont   \n",
       "6715                                    heist 88             Menhaj Huda   \n",
       "6716            the re-education of molly singer             Andy Palmer   \n",
       "6717                                  deliver us  Lee Roy Kunz Cru Ennis   \n",
       "\n",
       "           actor_1_name      actor_2_name          actor_3_name  \\\n",
       "0           CCH Pounder  Joel David Moore             Wes Studi   \n",
       "1           Johnny Depp     Orlando Bloom        Jack Davenport   \n",
       "2       Christoph Waltz      Rory Kinnear      Stephanie Sigman   \n",
       "3             Tom Hardy    Christian Bale  Joseph Gordon-Levitt   \n",
       "4           Doug Walker        Rob Walker         Carrie Fisher   \n",
       "...                 ...               ...                   ...   \n",
       "6713         Tobin Bell     Shawnee Smith   Synnøve Macody Lund   \n",
       "6714     Phoebe Dynevor  Alden Ehrenreich          Eddie Marsan   \n",
       "6715  Courtney B. Vance      Keesha Sharp           Keith David   \n",
       "6716    Britt Robertson       Ty Simpkins           Nico Santos   \n",
       "6717       Lee Roy Kunz  Maria Vera Ratti      Alexander Siddig   \n",
       "\n",
       "                               genres  \\\n",
       "0     Action Adventure Fantasy Sci-Fi   \n",
       "1            Action Adventure Fantasy   \n",
       "2           Action Adventure Thriller   \n",
       "3                     Action Thriller   \n",
       "4                         Documentary   \n",
       "...                               ...   \n",
       "6713            Crime Horror Thriller   \n",
       "6714                   Drama Thriller   \n",
       "6715                      Crime Drama   \n",
       "6716                           Comedy   \n",
       "6717                           Horror   \n",
       "\n",
       "                                                   comb  \n",
       "0     CCH Pounder, Joel David Moore, Wes Studi, Jame...  \n",
       "1     Johnny Depp, Orlando Bloom, Jack Davenport, Go...  \n",
       "2     Christoph Waltz, Rory Kinnear, Stephanie Sigma...  \n",
       "3     Tom Hardy, Christian Bale, Joseph Gordon-Levit...  \n",
       "4     Doug Walker, Rob Walker, Carrie Fisher, Doug W...  \n",
       "...                                                 ...  \n",
       "6713  Tobin Bell, Shawnee Smith, Synnøve Macody Lund...  \n",
       "6714  Phoebe Dynevor, Alden Ehrenreich, Eddie Marsan...  \n",
       "6715  Courtney B. Vance, Keesha Sharp, Keith David, ...  \n",
       "6716  Britt Robertson, Ty Simpkins, Nico Santos, And...  \n",
       "6717  Lee Roy Kunz, Maria Vera Ratti, Alexander Sidd...  \n",
       "\n",
       "[6718 rows x 7 columns]"
      ]
     },
     "execution_count": 26,
     "metadata": {},
     "output_type": "execute_result"
    }
   ],
   "source": [
    "df"
   ]
  },
  {
   "cell_type": "code",
   "execution_count": 27,
   "metadata": {},
   "outputs": [],
   "source": [
    "df.to_csv('../data/final_data.csv', index=False)"
   ]
  }
 ],
 "metadata": {
  "kernelspec": {
   "display_name": "Python 3",
   "language": "python",
   "name": "python3"
  },
  "language_info": {
   "codemirror_mode": {
    "name": "ipython",
    "version": 3
   },
   "file_extension": ".py",
   "mimetype": "text/x-python",
   "name": "python",
   "nbconvert_exporter": "python",
   "pygments_lexer": "ipython3",
   "version": "3.10.10"
  }
 },
 "nbformat": 4,
 "nbformat_minor": 2
}
