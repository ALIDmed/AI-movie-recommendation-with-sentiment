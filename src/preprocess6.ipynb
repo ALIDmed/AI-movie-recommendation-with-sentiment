{
 "cells": [
  {
   "cell_type": "code",
   "execution_count": 1,
   "metadata": {},
   "outputs": [],
   "source": [
    "import pandas as pd\n",
    "import requests\n",
    "import concurrent.futures"
   ]
  },
  {
   "cell_type": "code",
   "execution_count": 2,
   "metadata": {},
   "outputs": [],
   "source": [
    "df = pd.read_csv('../data/final_data.csv')"
   ]
  },
  {
   "cell_type": "code",
   "execution_count": 29,
   "metadata": {},
   "outputs": [],
   "source": [
    "def get_movie_keywords(movie_id):\n",
    "    api_key = '4c225c866aa84f4ef450043654ec9e56'\n",
    "    url = f'https://api.themoviedb.org/3/movie/{movie_id}/keywords?api_key={api_key}'\n",
    "    res = requests.get(url)\n",
    "    data = res.json()\n",
    "    keywords = []\n",
    "    try:\n",
    "        for keyword in data['keywords']:\n",
    "            keywords.append(keyword['name'])\n",
    "    except:\n",
    "        pass\n",
    "    return \", \".join(keywords)"
   ]
  },
  {
   "cell_type": "code",
   "execution_count": 30,
   "metadata": {},
   "outputs": [],
   "source": [
    "movie_ids = df['movie_id'].tolist()\n",
    "\n",
    "with concurrent.futures.ThreadPoolExecutor(max_workers=6) as executor:\n",
    "    keyword_results = list(executor.map(get_movie_keywords, movie_ids))\n",
    "    \n",
    "df['keywords'] = keyword_results    "
   ]
  },
  {
   "cell_type": "code",
   "execution_count": 31,
   "metadata": {},
   "outputs": [
    {
     "data": {
      "text/html": [
       "<div>\n",
       "<style scoped>\n",
       "    .dataframe tbody tr th:only-of-type {\n",
       "        vertical-align: middle;\n",
       "    }\n",
       "\n",
       "    .dataframe tbody tr th {\n",
       "        vertical-align: top;\n",
       "    }\n",
       "\n",
       "    .dataframe thead th {\n",
       "        text-align: right;\n",
       "    }\n",
       "</style>\n",
       "<table border=\"1\" class=\"dataframe\">\n",
       "  <thead>\n",
       "    <tr style=\"text-align: right;\">\n",
       "      <th></th>\n",
       "      <th>movie_title</th>\n",
       "      <th>director_name</th>\n",
       "      <th>actor_1_name</th>\n",
       "      <th>actor_2_name</th>\n",
       "      <th>actor_3_name</th>\n",
       "      <th>genres</th>\n",
       "      <th>comb</th>\n",
       "      <th>movie_id</th>\n",
       "      <th>keywords</th>\n",
       "    </tr>\n",
       "  </thead>\n",
       "  <tbody>\n",
       "    <tr>\n",
       "      <th>0</th>\n",
       "      <td>avatar</td>\n",
       "      <td>James Cameron</td>\n",
       "      <td>CCH Pounder</td>\n",
       "      <td>Joel David Moore</td>\n",
       "      <td>Wes Studi</td>\n",
       "      <td>Action Adventure Fantasy Sci-Fi</td>\n",
       "      <td>CCH Pounder, Joel David Moore, Wes Studi, Jame...</td>\n",
       "      <td>76600.0</td>\n",
       "      <td>loss of loved one, dying and death, alien life...</td>\n",
       "    </tr>\n",
       "    <tr>\n",
       "      <th>1</th>\n",
       "      <td>pirates of the caribbean: at world's end</td>\n",
       "      <td>Gore Verbinski</td>\n",
       "      <td>Johnny Depp</td>\n",
       "      <td>Orlando Bloom</td>\n",
       "      <td>Jack Davenport</td>\n",
       "      <td>Action Adventure Fantasy</td>\n",
       "      <td>Johnny Depp, Orlando Bloom, Jack Davenport, Go...</td>\n",
       "      <td>285.0</td>\n",
       "      <td>exotic island, east india company, love of one...</td>\n",
       "    </tr>\n",
       "    <tr>\n",
       "      <th>2</th>\n",
       "      <td>spectre</td>\n",
       "      <td>Sam Mendes</td>\n",
       "      <td>Christoph Waltz</td>\n",
       "      <td>Rory Kinnear</td>\n",
       "      <td>Stephanie Sigman</td>\n",
       "      <td>Action Adventure Thriller</td>\n",
       "      <td>Christoph Waltz, Rory Kinnear, Stephanie Sigma...</td>\n",
       "      <td>206647.0</td>\n",
       "      <td>spy, based on novel or book, secret agent, seq...</td>\n",
       "    </tr>\n",
       "    <tr>\n",
       "      <th>3</th>\n",
       "      <td>the dark knight rises</td>\n",
       "      <td>Christopher Nolan</td>\n",
       "      <td>Tom Hardy</td>\n",
       "      <td>Christian Bale</td>\n",
       "      <td>Joseph Gordon-Levitt</td>\n",
       "      <td>Action Thriller</td>\n",
       "      <td>Tom Hardy, Christian Bale, Joseph Gordon-Levit...</td>\n",
       "      <td>49026.0</td>\n",
       "      <td>crime fighter, secret identity, burglar, hosta...</td>\n",
       "    </tr>\n",
       "    <tr>\n",
       "      <th>4</th>\n",
       "      <td>star wars: episode vii - the force awakens</td>\n",
       "      <td>Doug Walker</td>\n",
       "      <td>Doug Walker</td>\n",
       "      <td>Rob Walker</td>\n",
       "      <td>Carrie Fisher</td>\n",
       "      <td>Documentary</td>\n",
       "      <td>Doug Walker, Rob Walker, Carrie Fisher, Doug W...</td>\n",
       "      <td>140607.0</td>\n",
       "      <td>android, spacecraft, space opera</td>\n",
       "    </tr>\n",
       "  </tbody>\n",
       "</table>\n",
       "</div>"
      ],
      "text/plain": [
       "                                  movie_title      director_name  \\\n",
       "0                                      avatar      James Cameron   \n",
       "1    pirates of the caribbean: at world's end     Gore Verbinski   \n",
       "2                                     spectre         Sam Mendes   \n",
       "3                       the dark knight rises  Christopher Nolan   \n",
       "4  star wars: episode vii - the force awakens        Doug Walker   \n",
       "\n",
       "      actor_1_name      actor_2_name          actor_3_name  \\\n",
       "0      CCH Pounder  Joel David Moore             Wes Studi   \n",
       "1      Johnny Depp     Orlando Bloom        Jack Davenport   \n",
       "2  Christoph Waltz      Rory Kinnear      Stephanie Sigman   \n",
       "3        Tom Hardy    Christian Bale  Joseph Gordon-Levitt   \n",
       "4      Doug Walker        Rob Walker         Carrie Fisher   \n",
       "\n",
       "                            genres  \\\n",
       "0  Action Adventure Fantasy Sci-Fi   \n",
       "1         Action Adventure Fantasy   \n",
       "2        Action Adventure Thriller   \n",
       "3                  Action Thriller   \n",
       "4                      Documentary   \n",
       "\n",
       "                                                comb  movie_id  \\\n",
       "0  CCH Pounder, Joel David Moore, Wes Studi, Jame...   76600.0   \n",
       "1  Johnny Depp, Orlando Bloom, Jack Davenport, Go...     285.0   \n",
       "2  Christoph Waltz, Rory Kinnear, Stephanie Sigma...  206647.0   \n",
       "3  Tom Hardy, Christian Bale, Joseph Gordon-Levit...   49026.0   \n",
       "4  Doug Walker, Rob Walker, Carrie Fisher, Doug W...  140607.0   \n",
       "\n",
       "                                            keywords  \n",
       "0  loss of loved one, dying and death, alien life...  \n",
       "1  exotic island, east india company, love of one...  \n",
       "2  spy, based on novel or book, secret agent, seq...  \n",
       "3  crime fighter, secret identity, burglar, hosta...  \n",
       "4                   android, spacecraft, space opera  "
      ]
     },
     "execution_count": 31,
     "metadata": {},
     "output_type": "execute_result"
    }
   ],
   "source": [
    "df.head()"
   ]
  },
  {
   "cell_type": "code",
   "execution_count": 5,
   "metadata": {},
   "outputs": [],
   "source": [
    "df.drop_duplicates(subset=['movie_id'], keep='first', inplace=True)"
   ]
  },
  {
   "cell_type": "code",
   "execution_count": 6,
   "metadata": {},
   "outputs": [],
   "source": [
    "df.to_csv('../data/final_data.csv', index=False, index_label=False)"
   ]
  },
  {
   "cell_type": "code",
   "execution_count": null,
   "metadata": {},
   "outputs": [],
   "source": []
  }
 ],
 "metadata": {
  "kernelspec": {
   "display_name": "Python 3",
   "language": "python",
   "name": "python3"
  },
  "language_info": {
   "codemirror_mode": {
    "name": "ipython",
    "version": 3
   },
   "file_extension": ".py",
   "mimetype": "text/x-python",
   "name": "python",
   "nbconvert_exporter": "python",
   "pygments_lexer": "ipython3",
   "version": "3.10.10"
  }
 },
 "nbformat": 4,
 "nbformat_minor": 2
}
